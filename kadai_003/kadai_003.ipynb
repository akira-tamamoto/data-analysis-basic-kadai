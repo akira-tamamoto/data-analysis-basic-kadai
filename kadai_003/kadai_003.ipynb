{
  "nbformat": 4,
  "nbformat_minor": 0,
  "metadata": {
    "colab": {
      "provenance": []
    },
    "kernelspec": {
      "name": "python3",
      "display_name": "Python 3"
    },
    "language_info": {
      "name": "python"
    }
  },
  "cells": [
    {
      "cell_type": "code",
      "execution_count": 12,
      "metadata": {
        "colab": {
          "base_uri": "https://localhost:8080/"
        },
        "id": "R7ONlJ6hQu9Y",
        "outputId": "ecfbff7c-491e-411d-f29d-3872295c7481"
      },
      "outputs": [
        {
          "output_type": "stream",
          "name": "stdout",
          "text": [
            "[[ 4  5  6  7]\n",
            " [12 17 22 27]\n",
            " [20 29 38 47]]\n",
            "47\n"
          ]
        }
      ],
      "source": [
        "import numpy as np\n",
        "\n",
        "a = np.array([[0,1], [2,3], [4,5]])\n",
        "b = np.array([[0, 1, 2, 3], [4, 5, 6, 7]])\n",
        "\n",
        "#aとbを計算する\n",
        "np.dot(a, b)\n",
        "\n",
        "#計算結果を代入\n",
        "result = np.dot(a,b)\n",
        "\n",
        "#計算結果を出力\n",
        "print(result)\n",
        "\n",
        "#最大値を知る\n",
        "result.max()\n",
        "\n",
        "#最大値を代入\n",
        "max_number = result.max()\n",
        "\n",
        "#最大値を出力\n",
        "print(max_number)"
      ]
    }
  ]
}